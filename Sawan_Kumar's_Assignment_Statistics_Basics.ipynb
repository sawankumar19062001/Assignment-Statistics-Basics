{
  "nbformat": 4,
  "nbformat_minor": 0,
  "metadata": {
    "colab": {
      "provenance": []
    },
    "kernelspec": {
      "name": "python3",
      "display_name": "Python 3"
    },
    "language_info": {
      "name": "python"
    }
  },
  "cells": [
    {
      "cell_type": "code",
      "execution_count": null,
      "metadata": {
        "id": "EDlk1cXPHDZv"
      },
      "outputs": [],
      "source": [
        "# Name - Sawan Kumar\n",
        "# Email ID - sawankumar19062001@gmail.com\n",
        "# Contact Number - 8882022191\n",
        "# Course - Data Science with Generative AI\n",
        "# Assignment - Statistics Basics\n",
        "# Module - 1 (Milestone - 2(Statistics))\n",
        "\n",
        "\n",
        "\n",
        "\n",
        "\n",
        "\n",
        "# Theory Question\n",
        "\n",
        "\n",
        "\n",
        "\n"
      ]
    },
    {
      "cell_type": "markdown",
      "source": [
        "# 1. What is statistics, and why is it important?\n",
        "\n",
        ">* Statistics is the science of collecting, organizing, analyzing, interpreting, and presenting data.\n",
        ">>* It is important because it allows us to make informed decisions, solve problems, and understand patterns in the world around us."
      ],
      "metadata": {
        "id": "oTFTIyKAISvA"
      }
    },
    {
      "cell_type": "markdown",
      "source": [
        "# 2. What are the two main types of statistics?\n",
        "\n",
        ">* The two main types of statistics are\n",
        ">>* descriptive statistics and\n",
        ">>* inferential statistics.\n"
      ],
      "metadata": {
        "id": "PNnqCj1nJPn0"
      }
    },
    {
      "cell_type": "markdown",
      "source": [
        "# 3. What are descriptive statistics?\n",
        "\n",
        ">* Descriptive statistics are used to summarize and describe the main features of a dataset."
      ],
      "metadata": {
        "id": "dreA2fI6Jpg8"
      }
    },
    {
      "cell_type": "markdown",
      "source": [
        "# 4. What is inferential statistics?\n",
        "\n",
        ">* Inferential statistics are used to make predictions or generalizations about a population based on a sample of data."
      ],
      "metadata": {
        "id": "isI9_Y73J3-X"
      }
    },
    {
      "cell_type": "markdown",
      "source": [
        "# 5. What is sampling in statistics?\n",
        "\n",
        ">* Sampling is the process of selecting a subset of individuals from a larger population to make inferences about the entire population."
      ],
      "metadata": {
        "id": "Jy4V5gIrKDkk"
      }
    },
    {
      "cell_type": "markdown",
      "source": [
        "# 6. What are the different types of sampling methods?\n",
        "\n",
        ">* There are various sampling methods, including\n",
        ">>* random sampling and\n",
        ">>* stratified sampling."
      ],
      "metadata": {
        "id": "S3b8oZLkKK5E"
      }
    },
    {
      "cell_type": "markdown",
      "source": [
        "# 7. What is the difference between random and non-random sampling?\n",
        "\n",
        ">* In random sampling, every member of the population has an equal chance of being selected, while in non-random sampling, selection is based on specific criteria."
      ],
      "metadata": {
        "id": "EjHerog0KZc0"
      }
    },
    {
      "cell_type": "markdown",
      "source": [
        "# 8. Define and give examples of qualitative and quantitative data.\n",
        "\n",
        ">* Qualitative data is descriptive and non-numerical (e.g., colors, opinions).\n",
        "\n",
        ">* Quantitative data is numerical and can be measured (e.g., height, weight)."
      ],
      "metadata": {
        "id": "qAvwsKk-KlwW"
      }
    },
    {
      "cell_type": "markdown",
      "source": [
        "# 9. What are the different types of data in statistics?\n",
        "\n",
        ">* Different types of data in statistics include\n",
        ">>* qualitative and\n",
        ">>* quantitative data."
      ],
      "metadata": {
        "id": "s4BEo1iHK3Vv"
      }
    },
    {
      "cell_type": "markdown",
      "source": [
        "# 10. Explain nominal, ordinal, interval, and ratio levels of measurement.\n",
        "\n",
        ">* Nominal data is categorical without order (e.g., colors).\n",
        "\n",
        ">* Ordinal data has a meaningful order (e.g., rankings).\n",
        "\n",
        ">* Interval data has equal intervals but no true zero (e.g., temperature in Celsius).\n",
        "\n",
        ">* Ratio data has equal intervals and a true zero (e.g., height)."
      ],
      "metadata": {
        "id": "wSjqIk5CLHWf"
      }
    },
    {
      "cell_type": "markdown",
      "source": [
        "# 11. What is the measure of central tendency?\n",
        "\n",
        ">* The measure of central tendency is a single value that attempts to describe the center of a dataset."
      ],
      "metadata": {
        "id": "52rY-t0WLfJy"
      }
    },
    {
      "cell_type": "markdown",
      "source": [
        "# 12. Define mean, median, and mode.\n",
        "\n",
        ">* Mean is the average of all values.\n",
        "\n",
        ">* Median is the middle value when data is ordered.\n",
        "\n",
        ">* Mode is the most frequent value."
      ],
      "metadata": {
        "id": "CcI42WSGLrig"
      }
    },
    {
      "cell_type": "markdown",
      "source": [
        "# 13. What is the significance of the measure of central tendency?\n",
        "\n",
        ">* Measures of central tendency help to understand the typical or average value in a dataset."
      ],
      "metadata": {
        "id": "Tx8RmSmSL4zJ"
      }
    },
    {
      "cell_type": "markdown",
      "source": [
        "# 14. What is variance, and how is it calculated?\n",
        "\n",
        ">* Variance measures how spread out the data points are from the mean.\n",
        ">>* It is calculated by averaging the squared differences of each data point from the mean.  "
      ],
      "metadata": {
        "id": "Z_N3AK1wMA75"
      }
    },
    {
      "cell_type": "markdown",
      "source": [
        "# 15. What is standard deviation, and why is it important?\n",
        "\n",
        ">* Standard deviation is the square root of the variance.\n",
        ">>* It measures the typical deviation of data points from the mean and is important for understanding data variability."
      ],
      "metadata": {
        "id": "SlsftSoAMWvi"
      }
    },
    {
      "cell_type": "markdown",
      "source": [
        "# 16. Define and explain the term range in statistics.\n",
        "\n",
        ">* Range is the difference between the maximum and minimum values in a dataset."
      ],
      "metadata": {
        "id": "cDjQpFXzMpet"
      }
    },
    {
      "cell_type": "markdown",
      "source": [
        "# 17. What is the difference between variance and standard deviation?\n",
        "\n",
        ">* Variance is the average of the squared differences from the mean, while\n",
        "\n",
        ">* standard deviation is the square root of the variance."
      ],
      "metadata": {
        "id": "e_MphxAyM2yg"
      }
    },
    {
      "cell_type": "markdown",
      "source": [
        "# 18. What is skewness in a dataset?\n",
        "\n",
        ">* Skewness is a measure of the asymmetry of a probability distribution."
      ],
      "metadata": {
        "id": "RkndN26GNDcW"
      }
    },
    {
      "cell_type": "markdown",
      "source": [
        "# 19. What does it mean if a dataset is positively or negatively skewed?\n",
        "\n",
        ">* Positively skewed means the tail is to the right, with more data points concentrated on the left.\n",
        "\n",
        ">* Negatively skewed means the tail is to the left, with more data points concentrated on the right."
      ],
      "metadata": {
        "id": "8bMH_WJ9NLY0"
      }
    },
    {
      "cell_type": "markdown",
      "source": [
        "# 20. Define and explain kurtosis.\n",
        "\n",
        ">* Kurtosis is a way to describe how \"sharp\" or \"flat\" a set of data looks, especially by looking at the tails — the very high and very low values.\n",
        ">>* It tells us:\n",
        ">>>* Are there a lot of extreme values (outliers)?\n",
        ">>>* Is the middle of the data very peaked or more flat?\n",
        "\n",
        ">* Three types of kurtosis:\n",
        ">>* Mesokurtic (Normal)\n",
        ">>>* The data has a regular, bell-shaped curve.\n",
        ">>>* Not too many outliers.\n",
        ">>>* Example: Heights of people.\n",
        ">>* Leptokurtic (High kurtosis)\n",
        ">>>* Very tall peak and fat tails.\n",
        ">>>* More extreme values (more outliers).\n",
        ">>>* Example: Stock market returns during a crash.\n",
        ">>* Platykurtic (Low kurtosis)\n",
        ">>>* Flatter curve and thinner tails.\n",
        ">>>* Very few extreme values.\n",
        ">>>* Example: Scores where almost everyone scores similarly."
      ],
      "metadata": {
        "id": "AUsGrlL0NXFi"
      }
    },
    {
      "cell_type": "markdown",
      "source": [
        "# 21. What is the purpose of covariance?\n",
        "\n",
        ">* Covariance measures the degree to which two variables change together."
      ],
      "metadata": {
        "id": "iKw-WnbeNmF4"
      }
    },
    {
      "cell_type": "markdown",
      "source": [
        "# 22. What does correlation measure in statistics?\n",
        "\n",
        ">* Correlation measures the strength and direction of the linear relationship between two variables."
      ],
      "metadata": {
        "id": "1HwBl1nDNx04"
      }
    },
    {
      "cell_type": "markdown",
      "source": [
        "# 23. What is the difference between covariance and correlation?\n",
        "\n",
        ">* Covariance measures the direction of a linear relationship, while\n",
        ">* correlation measures both the strength and direction of a linear relationship, and is standardized."
      ],
      "metadata": {
        "id": "kVrJRTHhN6uS"
      }
    },
    {
      "cell_type": "markdown",
      "source": [
        "# 24. What are some real-world applications of statistics?\n",
        "\n",
        ">* Statistics are used in various fields, including\n",
        ">>* healthcare,\n",
        ">>* finance,\n",
        ">>* marketing, and\n",
        ">>* social sciences, for data analysis, decision-making, and research."
      ],
      "metadata": {
        "id": "7rZtesclODgZ"
      }
    },
    {
      "cell_type": "code",
      "source": [
        "\n",
        "\n",
        "\n",
        "\n",
        "\n",
        "# Practical Question\n",
        "\n",
        "\n",
        "\n",
        "\n"
      ],
      "metadata": {
        "id": "RNMwKm4mPuSW"
      },
      "execution_count": null,
      "outputs": []
    },
    {
      "cell_type": "code",
      "source": [
        "# 1. How do you calculate the mean, median, and mode of a dataset?\n",
        "\n",
        "data = [5, 7, 3, 7, 9, 3, 7, 5, 3]\n",
        "\n",
        "# To calculate Mean\n",
        "\n",
        "mean = sum(data) / len(data)\n",
        "print(\"Mean:\", mean)\n",
        "\n",
        "# To calculate Median\n",
        "\n",
        "sorted_data = sorted(data)\n",
        "n = len(sorted_data)\n",
        "\n",
        "if n % 2 == 1:\n",
        "    median = sorted_data[n // 2]\n",
        "else:\n",
        "    median = (sorted_data[(n // 2) - 1] + sorted_data[n // 2]) / 2\n",
        "print(\"Median:\", median)\n",
        "\n",
        "# To calculate Mode\n",
        "\n",
        "count_dict = {}\n",
        "for num in data:\n",
        "    if num in count_dict:\n",
        "        count_dict[num] += 1\n",
        "    else:\n",
        "        count_dict[num] = 1\n",
        "\n",
        "# Find the maximum occurrence\n",
        "\n",
        "max_count = max(count_dict.values())\n",
        "mode = [k for k, v in count_dict.items() if v == max_count]\n",
        "\n",
        "print(\"Mode:\", mode)\n"
      ],
      "metadata": {
        "colab": {
          "base_uri": "https://localhost:8080/"
        },
        "id": "1oVDEWFjPzOe",
        "outputId": "907d696a-bf22-4464-9092-c0eb3089d11b"
      },
      "execution_count": null,
      "outputs": [
        {
          "output_type": "stream",
          "name": "stdout",
          "text": [
            "Mean: 5.444444444444445\n",
            "Median: 5\n",
            "Mode: [7, 3]\n"
          ]
        }
      ]
    },
    {
      "cell_type": "code",
      "source": [
        "# 2. Write a Python program to compute the variance and standard deviation of a dataset.\n",
        "\n",
        "import numpy as np\n",
        "\n",
        "def calculate_variance_std(data):\n",
        "    variance = np.var(data)\n",
        "    std_dev = np.std(data)\n",
        "    return variance, std_dev\n",
        "\n",
        "data = [1, 2, 3, 4, 5]\n",
        "variance, std_dev = calculate_variance_std(data)\n",
        "print(\"Variance:\", variance)\n",
        "print(\"Standard Deviation:\", std_dev)"
      ],
      "metadata": {
        "colab": {
          "base_uri": "https://localhost:8080/"
        },
        "id": "hkxiaTVuQAws",
        "outputId": "b59e27dc-d436-4a5e-8329-0be1f238497c"
      },
      "execution_count": null,
      "outputs": [
        {
          "output_type": "stream",
          "name": "stdout",
          "text": [
            "Variance: 2.0\n",
            "Standard Deviation: 1.4142135623730951\n"
          ]
        }
      ]
    },
    {
      "cell_type": "code",
      "source": [
        "# 3. Create a dataset and classify it into nominal, ordinal, interval, and ratio types.\n",
        "\n",
        "nominal_data = [\"Red\", \"Blue\", \"Green\"]\n",
        "ordinal_data = [\"Low\", \"Medium\", \"High\"]\n",
        "interval_data = np.array([10, 12, 14, 16, 18])  # Temperature (Celsius)\n",
        "ratio_data = np.array([1, 2, 3, 4, 5])  # Length (cm)\n",
        "\n",
        "print(\"Nominal Data:\", nominal_data)\n",
        "print(\"Ordinal Data:\", ordinal_data)\n",
        "print(\"Interval Data:\", interval_data)\n",
        "print(\"Ratio Data:\", ratio_data)"
      ],
      "metadata": {
        "colab": {
          "base_uri": "https://localhost:8080/"
        },
        "id": "ZkGtZ2p6QH_M",
        "outputId": "14d0cb7c-ca45-4a85-8bfa-9ea74cd2efbb"
      },
      "execution_count": null,
      "outputs": [
        {
          "output_type": "stream",
          "name": "stdout",
          "text": [
            "Nominal Data: ['Red', 'Blue', 'Green']\n",
            "Ordinal Data: ['Low', 'Medium', 'High']\n",
            "Interval Data: [10 12 14 16 18]\n",
            "Ratio Data: [1 2 3 4 5]\n"
          ]
        }
      ]
    },
    {
      "cell_type": "code",
      "source": [
        "# 4. Implement sampling techniques like random sampling and stratified sampling.\n",
        "\n",
        "import random\n",
        "\n",
        "def random_sampling(population, size):\n",
        "    return random.sample(population, size)\n",
        "\n",
        "def stratified_sampling(population, strata_sizes):\n",
        "    stratified_sample = []\n",
        "    for stratum, size in strata_sizes.items():\n",
        "        stratified_sample.extend(random.sample(population[stratum], size))\n",
        "    return stratified_sample\n",
        "\n",
        "population = {'A': [1, 2, 3, 4], 'B': [5, 6, 7, 8], 'C': [9, 10, 11, 12]}\n",
        "strata_sizes = {'A': 2, 'B': 1, 'C': 2}\n",
        "print(\"Random Sample:\", random_sampling([1, 2, 3, 4, 5, 6, 7, 8, 9, 10, 11, 12], 5))\n",
        "print(\"Stratified Sample:\", stratified_sampling(population, strata_sizes))"
      ],
      "metadata": {
        "colab": {
          "base_uri": "https://localhost:8080/"
        },
        "id": "E2-ut2_6QLRq",
        "outputId": "053b3c89-5e04-4644-e24b-4e53fda0a28a"
      },
      "execution_count": null,
      "outputs": [
        {
          "output_type": "stream",
          "name": "stdout",
          "text": [
            "Random Sample: [4, 10, 11, 9, 1]\n",
            "Stratified Sample: [3, 2, 6, 11, 10]\n"
          ]
        }
      ]
    },
    {
      "cell_type": "code",
      "source": [
        "# 5. Write a Python function to calculate the range of a dataset.\n",
        "\n",
        "def calculate_range(data):\n",
        "    return max(data) - min(data)\n",
        "\n",
        "data = [10, 20, 30, 40, 50]\n",
        "print(\"Range:\", calculate_range(data))"
      ],
      "metadata": {
        "colab": {
          "base_uri": "https://localhost:8080/"
        },
        "id": "dxgqzXiLQOhO",
        "outputId": "fc4c2b2e-d88f-4a95-d75d-5036f02e2ca1"
      },
      "execution_count": null,
      "outputs": [
        {
          "output_type": "stream",
          "name": "stdout",
          "text": [
            "Range: 40\n"
          ]
        }
      ]
    },
    {
      "cell_type": "code",
      "source": [
        "# 6. Create a dataset and plot its histogram to visualize skewness.\n",
        "\n",
        "import matplotlib.pyplot as plt\n",
        "import numpy as np\n",
        "\n",
        "data = np.array([1, 2, 2, 3, 3, 3, 4, 4, 5])\n",
        "plt.hist(data, bins=5)\n",
        "plt.title(\"Histogram to Visualize Skewness\")\n",
        "plt.show()"
      ],
      "metadata": {
        "colab": {
          "base_uri": "https://localhost:8080/",
          "height": 452
        },
        "id": "-n74BSPlQQ9Y",
        "outputId": "f85d7249-dfa2-4f18-f450-dab8bef4776e"
      },
      "execution_count": null,
      "outputs": [
        {
          "output_type": "display_data",
          "data": {
            "text/plain": [
              "<Figure size 640x480 with 1 Axes>"
            ],
            "image/png": "[encoded data removed]"
          },
          "metadata": {}
        }
      ]
    },
    {
      "cell_type": "code",
      "source": [
        "# 7. Calculate skewness and kurtosis of a dataset using Python libraries.\n",
        "\n",
        "from scipy.stats import skew, kurtosis\n",
        "import numpy as np\n",
        "\n",
        "data = np.array([1, 2, 3, 4, 5])\n",
        "print(\"Skewness:\", skew(data))\n",
        "print(\"Kurtosis:\", kurtosis(data))"
      ],
      "metadata": {
        "colab": {
          "base_uri": "https://localhost:8080/"
        },
        "id": "SMlcF4P-QTvn",
        "outputId": "7f3a9c47-13e8-4f2a-b357-4ab19eff57a6"
      },
      "execution_count": null,
      "outputs": [
        {
          "output_type": "stream",
          "name": "stdout",
          "text": [
            "Skewness: 0.0\n",
            "Kurtosis: -1.3\n"
          ]
        }
      ]
    },
    {
      "cell_type": "code",
      "source": [
        "# 8. Generate a dataset and demonstrate positive and negative skewness.\n",
        "\n",
        "import numpy as np\n",
        "import matplotlib.pyplot as plt\n",
        "from scipy.stats import skew, kurtosis\n",
        "\n",
        "# Positive Skewness\n",
        "data_positive_skew = np.array([1, 2, 2, 3, 3, 3, 4, 4, 5, 6, 7, 8, 9, 10])\n",
        "plt.figure()\n",
        "plt.hist(data_positive_skew, bins=5)\n",
        "plt.title(f\"Positive Skewness (Skew: {skew(data_positive_skew):.2f}, Kurtosis: {kurtosis(data_positive_skew):.2f})\")\n",
        "plt.show()\n",
        "\n",
        "# Negative Skewness\n",
        "data_negative_skew = np.array([10, 9, 8, 7, 6, 5, 4, 4, 3, 3, 3, 2, 2, 1])\n",
        "plt.figure()\n",
        "plt.hist(data_negative_skew, bins=5)\n",
        "plt.title(f\"Negative Skewness (Skew: {skew(data_negative_skew):.2f}, Kurtosis: {kurtosis(data_negative_skew):.2f})\")\n",
        "plt.show()"
      ],
      "metadata": {
        "colab": {
          "base_uri": "https://localhost:8080/",
          "height": 887
        },
        "id": "SWiFvEHwQW4_",
        "outputId": "348f6e09-e2d7-41d0-f830-8e813a4af284"
      },
      "execution_count": null,
      "outputs": [
        {
          "output_type": "display_data",
          "data": {
            "text/plain": [
              "<Figure size 640x480 with 1 Axes>"
            ],
            "image/png": "[encoded data removed]"
          },
          "metadata": {}
        },
        {
          "output_type": "display_data",
          "data": {
            "text/plain": [
              "<Figure size 640x480 with 1 Axes>"
            ],
            "image/png": "[encoded data removed]"
          },
          "metadata": {}
        }
      ]
    },
    {
      "cell_type": "code",
      "source": [
        "# 9. Write a Python script to calculate covariance between two datasets.\n",
        "\n",
        "import numpy as np\n",
        "\n",
        "def calculate_covariance(data1, data2):\n",
        "    return np.cov(data1, data2)[0, 1]\n",
        "\n",
        "data1 = np.array([1, 2, 3, 4, 5])\n",
        "data2 = np.array([2, 3, 4, 5, 6])\n",
        "print(\"Covariance:\", calculate_covariance(data1, data2))"
      ],
      "metadata": {
        "colab": {
          "base_uri": "https://localhost:8080/"
        },
        "id": "56hxa2iMQizB",
        "outputId": "4d3cd49d-72ee-470a-fe1a-4453883a7408"
      },
      "execution_count": null,
      "outputs": [
        {
          "output_type": "stream",
          "name": "stdout",
          "text": [
            "Covariance: 2.5\n"
          ]
        }
      ]
    },
    {
      "cell_type": "code",
      "source": [
        "# 10. Write a Python script to calculate the correlation coefficient between two datasets.\n",
        "\n",
        "import numpy as np\n",
        "\n",
        "def calculate_correlation(data1, data2):\n",
        "    return np.corrcoef(data1, data2)[0, 1]\n",
        "\n",
        "data1 = np.array([1, 2, 3, 4, 5])\n",
        "data2 = np.array([2, 4, 6, 8, 10])\n",
        "print(\"Correlation Coefficient:\", calculate_correlation(data1, data2))"
      ],
      "metadata": {
        "colab": {
          "base_uri": "https://localhost:8080/"
        },
        "id": "h9yjSui6Qjiw",
        "outputId": "34b04bff-88c1-4687-a5f1-5edd497cd265"
      },
      "execution_count": null,
      "outputs": [
        {
          "output_type": "stream",
          "name": "stdout",
          "text": [
            "Correlation Coefficient: 0.9999999999999999\n"
          ]
        }
      ]
    },
    {
      "cell_type": "code",
      "source": [
        "# 11. Create a scatter plot to visualize the relationship between two variables.\n",
        "\n",
        "import matplotlib.pyplot as plt\n",
        "import numpy as np\n",
        "\n",
        "data1 = np.array([1, 2, 3, 4, 5])\n",
        "data2 = np.array([2, 4, 5, 4, 5])\n",
        "plt.scatter(data1, data2)\n",
        "plt.xlabel(\"Variable 1\")\n",
        "plt.ylabel(\"Variable 2\")\n",
        "plt.title(\"Scatter Plot\")\n",
        "plt.show()"
      ],
      "metadata": {
        "colab": {
          "base_uri": "https://localhost:8080/",
          "height": 472
        },
        "id": "3iA7KRbHQnBR",
        "outputId": "d3c10232-aaca-472c-f2e3-9389b8158236"
      },
      "execution_count": null,
      "outputs": [
        {
          "output_type": "display_data",
          "data": {
            "text/plain": [
              "<Figure size 640x480 with 1 Axes>"
            ],
            "image/png": "[encoded data removed]"
          },
          "metadata": {}
        }
      ]
    },
    {
      "cell_type": "code",
      "source": [
        "# 12. Implement and compare simple random sampling and systematic sampling.\n",
        "\n",
        "import random\n",
        "\n",
        "def simple_random_sampling(data, sample_size):\n",
        "    return random.sample(data, sample_size)\n",
        "\n",
        "def systematic_sampling(data, interval):\n",
        "    start = random.randint(0, interval - 1)\n",
        "    return [data[i] for i in range(start, len(data), interval)]\n",
        "\n",
        "data = [i for i in range(100)]\n",
        "print(\"Simple Random Sample:\", simple_random_sampling(data, 10))\n",
        "print(\"Systematic Sample:\", systematic_sampling(data, 7))"
      ],
      "metadata": {
        "colab": {
          "base_uri": "https://localhost:8080/"
        },
        "id": "KdEsr5dXQpJp",
        "outputId": "eecb1f00-292d-4316-92f6-1379dd888b8e"
      },
      "execution_count": null,
      "outputs": [
        {
          "output_type": "stream",
          "name": "stdout",
          "text": [
            "Simple Random Sample: [53, 17, 58, 54, 60, 4, 67, 7, 77, 91]\n",
            "Systematic Sample: [1, 8, 15, 22, 29, 36, 43, 50, 57, 64, 71, 78, 85, 92, 99]\n"
          ]
        }
      ]
    },
    {
      "cell_type": "code",
      "source": [
        "# 13. Calculate the mean, median, and mode of grouped data.\n",
        "\n",
        "import pandas as pd\n",
        "\n",
        "# Example: Grouped data (intervals and frequencies)\n",
        "grouped_data = pd.DataFrame({\n",
        "    'Interval_Lower': [0, 10, 20, 30, 40],\n",
        "    'Interval_Upper': [9, 19, 29, 39, 50],\n",
        "    'Frequency': [12, 18, 25, 20, 15]\n",
        "})\n",
        "\n",
        "def calculate_grouped_mean(df):\n",
        "    df['Midpoint'] = (df['Interval_Lower'] + df['Interval_Upper']) / 2\n",
        "    df['fx'] = df['Midpoint'] * df['Frequency']\n",
        "    return df['fx'].sum() / df['Frequency'].sum()\n",
        "\n",
        "def calculate_grouped_median(df):\n",
        "    n = df['Frequency'].sum()\n",
        "    cumulative_frequency = df['Frequency'].cumsum()\n",
        "    median_group_index = df[cumulative_frequency >= n / 2].index[0]\n",
        "    L = df['Interval_Lower'][median_group_index]\n",
        "    cf = cumulative_frequency[median_group_index - 1] if median_group_index > 0 else 0\n",
        "    f = df['Frequency'][median_group_index]\n",
        "    w = df['Interval_Upper'][median_group_index] - df['Interval_Lower'][median_group_index]\n",
        "    return L + ((n / 2 - cf) / f) * w\n",
        "\n",
        "def calculate_grouped_mode(df):\n",
        "    mode_group_index = df['Frequency'].idxmax()\n",
        "    L = df['Interval_Lower'][mode_group_index]\n",
        "    f1 = df['Frequency'][mode_group_index - 1] if mode_group_index > 0 else 0\n",
        "    f2 = df['Frequency'][mode_group_index + 1] if mode_group_index < len(df) - 1 else 0\n",
        "    w = df['Interval_Upper'][mode_group_index] - df['Interval_Lower'][mode_group_index]\n",
        "    return L + ((df['Frequency'][mode_group_index] - f1) / ((df['Frequency'][mode_group_index] - f1) + (df['Frequency'][mode_group_index] - f2))) * w\n",
        "\n",
        "print(\"Grouped Mean:\", calculate_grouped_mean(grouped_data))\n",
        "print(\"Grouped Median:\", calculate_grouped_median(grouped_data))\n",
        "print(\"Grouped Mode:\", calculate_grouped_mode(grouped_data))"
      ],
      "metadata": {
        "colab": {
          "base_uri": "https://localhost:8080/"
        },
        "id": "bJh7eILxQrhV",
        "outputId": "85ecb8d6-087c-4b33-dfc6-3536ef038eed"
      },
      "execution_count": null,
      "outputs": [
        {
          "output_type": "stream",
          "name": "stdout",
          "text": [
            "Grouped Mean: 25.47222222222222\n",
            "Grouped Median: 25.4\n",
            "Grouped Mode: 25.25\n"
          ]
        }
      ]
    },
    {
      "cell_type": "code",
      "source": [
        "# 14. Simulate data using Python and calculate its central tendency and dispersion.\n",
        "\n",
        "import random\n",
        "import statistics\n",
        "\n",
        "data = [random.randint(10, 50) for _ in range(100)]\n",
        "\n",
        "# Calculate Central Tendency\n",
        "\n",
        "mean = statistics.mean(data)\n",
        "median = statistics.median(data)\n",
        "mode = statistics.mode(data)\n",
        "\n",
        "print(\"Mean:\", mean)\n",
        "print(\"Median:\", median)\n",
        "print(\"Mode:\", mode)\n",
        "\n",
        "# Calculate Dispersion\n",
        "\n",
        "variance = statistics.variance(data)\n",
        "std_deviation = statistics.stdev(data)\n",
        "\n",
        "print(\"Variance:\", variance)\n",
        "print(\"Standard Deviation:\", std_deviation)\n"
      ],
      "metadata": {
        "colab": {
          "base_uri": "https://localhost:8080/"
        },
        "id": "OunLAMcSQtM9",
        "outputId": "ea2f58d6-7b37-4626-acf0-91c2d229b8f7"
      },
      "execution_count": null,
      "outputs": [
        {
          "output_type": "stream",
          "name": "stdout",
          "text": [
            "Mean: 29.47\n",
            "Median: 30.5\n",
            "Mode: 39\n",
            "Variance: 131.24151515151516\n",
            "Standard Deviation: 11.456068922257545\n"
          ]
        }
      ]
    },
    {
      "cell_type": "code",
      "source": [
        "# 15. Use NumPy or pandas to summarize a dataset’s descriptive statistics.\n",
        "\n",
        "import numpy as np\n",
        "import pandas as pd\n",
        "\n",
        "data = np.array([1, 2, 3, 4, 5, 6, 7, 8, 9, 10])\n",
        "print(\"NumPy Describe:\", pd.Series(data).describe())\n",
        "\n",
        "data_series = pd.Series(data)\n",
        "print(\"Pandas Describe:\", data_series.describe())\n"
      ],
      "metadata": {
        "colab": {
          "base_uri": "https://localhost:8080/"
        },
        "id": "XG6NnkcJQvDh",
        "outputId": "6a84d925-8dbb-48f6-fd56-aec46887c5af"
      },
      "execution_count": null,
      "outputs": [
        {
          "output_type": "stream",
          "name": "stdout",
          "text": [
            "NumPy Describe: count    10.00000\n",
            "mean      5.50000\n",
            "std       3.02765\n",
            "min       1.00000\n",
            "25%       3.25000\n",
            "50%       5.50000\n",
            "75%       7.75000\n",
            "max      10.00000\n",
            "dtype: float64\n",
            "Pandas Describe: count    10.00000\n",
            "mean      5.50000\n",
            "std       3.02765\n",
            "min       1.00000\n",
            "25%       3.25000\n",
            "50%       5.50000\n",
            "75%       7.75000\n",
            "max      10.00000\n",
            "dtype: float64\n"
          ]
        }
      ]
    },
    {
      "cell_type": "code",
      "source": [
        "# 16. Plot a boxplot to understand the spread and identify outliers.\n",
        "\n",
        "import matplotlib.pyplot as plt\n",
        "import numpy as np\n",
        "\n",
        "data = np.array([10, 20, 30, 40, 50, 100])  # Example with an outlier\n",
        "plt.boxplot(data)\n",
        "plt.title(\"Boxplot\")\n",
        "plt.show()"
      ],
      "metadata": {
        "colab": {
          "base_uri": "https://localhost:8080/",
          "height": 452
        },
        "id": "5MreY1UvQxj4",
        "outputId": "8e6e5ebb-d2a1-4c86-d5b5-f4e7ab0a7996"
      },
      "execution_count": null,
      "outputs": [
        {
          "output_type": "display_data",
          "data": {
            "text/plain": [
              "<Figure size 640x480 with 1 Axes>"
            ],
            "image/png": "[encoded data removed]"
          },
          "metadata": {}
        }
      ]
    },
    {
      "cell_type": "code",
      "source": [
        "# 17. Calculate the interquartile range (IQR) of a dataset.\n",
        "\n",
        "import numpy as np\n",
        "\n",
        "def calculate_iqr(data):\n",
        "    q1 = np.percentile(data, 25)\n",
        "    q3 = np.percentile(data, 75)\n",
        "    return q3 - q1\n",
        "\n",
        "# Example Usage\n",
        "data = np.array([1, 2, 3, 4, 5, 6, 7, 8, 9, 10])\n",
        "iqr_val = calculate_iqr(data)\n",
        "\n",
        "print(\"IQR:\", iqr_val)"
      ],
      "metadata": {
        "colab": {
          "base_uri": "https://localhost:8080/"
        },
        "id": "8HpMeoAhQztN",
        "outputId": "87420f6b-ba61-48ae-a125-186c8bc94b13"
      },
      "execution_count": null,
      "outputs": [
        {
          "output_type": "stream",
          "name": "stdout",
          "text": [
            "IQR: 4.5\n"
          ]
        }
      ]
    },
    {
      "cell_type": "code",
      "source": [
        "# 18. Implement Z-score normalization and explain its significance.\n",
        "\n",
        "import numpy as np\n",
        "\n",
        "def z_score_normalize(data):\n",
        "    mean = np.mean(data)\n",
        "    std = np.std(data)\n",
        "    return (data - mean) / std\n",
        "\n",
        "# Example Usage\n",
        "data = np.array([1, 2, 3, 4, 5])\n",
        "normalized_data = z_score_normalize(data)\n",
        "\n",
        "print(\"Normalized Data:\", normalized_data)"
      ],
      "metadata": {
        "colab": {
          "base_uri": "https://localhost:8080/"
        },
        "id": "OZ6dXDBPQ2ZR",
        "outputId": "212b5118-59e9-4213-ad5e-4ace96f10c7a"
      },
      "execution_count": null,
      "outputs": [
        {
          "output_type": "stream",
          "name": "stdout",
          "text": [
            "Normalized Data: [-1.41421356 -0.70710678  0.          0.70710678  1.41421356]\n"
          ]
        }
      ]
    },
    {
      "cell_type": "code",
      "source": [
        "# 19. Compare two datasets using their standard deviations.\n",
        "\n",
        "import numpy as np\n",
        "\n",
        "# Example Usage\n",
        "data1 = np.array([1, 2, 3, 4, 5])\n",
        "data2 = np.array([2, 4, 6, 8, 10])\n",
        "\n",
        "std_dev1 = np.std(data1)\n",
        "std_dev2 = np.std(data2)\n",
        "\n",
        "print(\"Standard Deviation of data1:\", std_dev1)\n",
        "print(\"Standard Deviation of data2:\", std_dev2)\n",
        "\n",
        "if std_dev1 > std_dev2:\n",
        "    print(\"data1 has greater variability than data2\")\n",
        "elif std_dev2 > std_dev1:\n",
        "    print(\"data2 has greater variability than data1\")\n",
        "else:\n",
        "    print(\"Both datasets have the same variability\")"
      ],
      "metadata": {
        "colab": {
          "base_uri": "https://localhost:8080/"
        },
        "id": "iTjOu-09Q4bl",
        "outputId": "60fd2915-94da-4c0c-a067-146edb4c2774"
      },
      "execution_count": null,
      "outputs": [
        {
          "output_type": "stream",
          "name": "stdout",
          "text": [
            "Standard Deviation of data1: 1.4142135623730951\n",
            "Standard Deviation of data2: 2.8284271247461903\n",
            "data2 has greater variability than data1\n"
          ]
        }
      ]
    },
    {
      "cell_type": "code",
      "source": [
        "# 20. Write a Python program to visualize covariance using a heatmap.\n",
        "\n",
        "import numpy as np\n",
        "import matplotlib.pyplot as plt\n",
        "\n",
        "# Example Usage\n",
        "data = np.array([[1, 2, 3, 4, 5], [2, 4, 6, 8, 10], [1, 3, 5, 7, 9]])\n",
        "covariance_matrix = np.cov(data)\n",
        "\n",
        "plt.imshow(covariance_matrix, cmap='coolwarm', interpolation='nearest')\n",
        "plt.colorbar()\n",
        "plt.title(\"Covariance Heatmap\")\n",
        "plt.show()"
      ],
      "metadata": {
        "colab": {
          "base_uri": "https://localhost:8080/",
          "height": 452
        },
        "id": "z2HFDGLOQ7f-",
        "outputId": "47cc50f6-d793-4b00-a276-bf6a10051f9c"
      },
      "execution_count": null,
      "outputs": [
        {
          "output_type": "display_data",
          "data": {
            "text/plain": [
              "<Figure size 640x480 with 2 Axes>"
            ],
            "image/png": "[encoded data removed]"
          },
          "metadata": {}
        }
      ]
    },
    {
      "cell_type": "code",
      "source": [
        "# 21. Use seaborn to create a correlation matrix for a dataset.\n",
        "\n",
        "import seaborn as sns\n",
        "import numpy as np\n",
        "import pandas as pd\n",
        "import matplotlib.pyplot as plt\n",
        "\n",
        "# Example Usage\n",
        "data = pd.DataFrame(np.array([[1, 2, 3, 4, 5], [2, 4, 6, 8, 10], [1, 3, 5, 7, 9]]).T, columns=['A', 'B', 'C'])\n",
        "\n",
        "correlation_matrix = data.corr()\n",
        "sns.heatmap(correlation_matrix, annot=True, cmap='coolwarm')\n",
        "plt.title(\"Correlation Matrix\")\n",
        "plt.show()\n"
      ],
      "metadata": {
        "colab": {
          "base_uri": "https://localhost:8080/",
          "height": 452
        },
        "id": "3HSghi2NQ_De",
        "outputId": "51658a77-b53f-486a-ed99-cc284e4bb277"
      },
      "execution_count": null,
      "outputs": [
        {
          "output_type": "display_data",
          "data": {
            "text/plain": [
              "<Figure size 640x480 with 2 Axes>"
            ],
            "image/png": "[encoded data removed]"
          },
          "metadata": {}
        }
      ]
    },
    {
      "cell_type": "code",
      "source": [
        "# 22. Generate a dataset and implement both variance and standard deviation computations.\n",
        "\n",
        "import numpy as np\n",
        "\n",
        "def calculate_variance_manual(data):\n",
        "    mean = np.mean(data)\n",
        "    return np.mean((data - mean) ** 2)\n",
        "\n",
        "def calculate_std_dev_manual(data):\n",
        "    return np.sqrt(calculate_variance_manual(data))\n",
        "\n",
        "# Example Usage\n",
        "data = np.array([1, 2, 3, 4, 5])\n",
        "variance_manual = calculate_variance_manual(data)\n",
        "std_dev_manual = calculate_std_dev_manual(data)\n",
        "\n",
        "print(\"Manual Variance:\", variance_manual)\n",
        "print(\"Manual Standard Deviation:\", std_dev_manual)\n",
        "\n",
        "# Verification using numpy\n",
        "print(\"Numpy Variance:\", np.var(data))\n",
        "print(\"Numpy Standard Deviation:\", np.std(data))"
      ],
      "metadata": {
        "colab": {
          "base_uri": "https://localhost:8080/"
        },
        "id": "m7-cTpL7RB6Z",
        "outputId": "1da80085-b589-42fb-a99b-eb028f63e928"
      },
      "execution_count": null,
      "outputs": [
        {
          "output_type": "stream",
          "name": "stdout",
          "text": [
            "Manual Variance: 2.0\n",
            "Manual Standard Deviation: 1.4142135623730951\n",
            "Numpy Variance: 2.0\n",
            "Numpy Standard Deviation: 1.4142135623730951\n"
          ]
        }
      ]
    },
    {
      "cell_type": "code",
      "source": [
        "# 23. Visualize skewness and kurtosis using Python libraries like matplotlib or seaborn.\n",
        "\n",
        "import matplotlib.pyplot as plt\n",
        "import seaborn as sns\n",
        "import numpy as np\n",
        "from scipy.stats import skew, kurtosis\n",
        "import scipy.stats as stats\n",
        "\n",
        "# Example Usage\n",
        "data = np.array([1, 2, 2, 3, 3, 3, 4, 5, 6, 7, 8, 9, 10])\n",
        "\n",
        "plt.figure(figsize=(10, 5))\n",
        "\n",
        "# Histogram for Skewness\n",
        "plt.subplot(1, 2, 1)\n",
        "sns.histplot(data, kde=True)\n",
        "plt.title(f\"Skewness: {skew(data):.2f}\")\n",
        "\n",
        "# Q-Q plot for Kurtosis\n",
        "plt.subplot(1, 2, 2)\n",
        "stats.probplot(data, plot=plt)\n",
        "plt.title(f\"Q-Q Plot (Kurtosis: {kurtosis(data):.2f})\")\n",
        "\n",
        "plt.show()"
      ],
      "metadata": {
        "colab": {
          "base_uri": "https://localhost:8080/",
          "height": 487
        },
        "id": "tEL3Pam-RC8_",
        "outputId": "722ccde3-0c96-49bf-e9a4-1d7c2b39a2de"
      },
      "execution_count": null,
      "outputs": [
        {
          "output_type": "display_data",
          "data": {
            "text/plain": [
              "<Figure size 1000x500 with 2 Axes>"
            ],
            "image/png": "[encoded data removed]"
          },
          "metadata": {}
        }
      ]
    },
    {
      "cell_type": "code",
      "source": [
        "# 24. Implement the Pearson and Spearman correlation coefficients for a dataset.\n",
        "\n",
        "import numpy as np\n",
        "from scipy.stats import pearsonr, spearmanr\n",
        "\n",
        "def calculate_pearson_spearman(data1, data2):\n",
        "    return pearsonr(data1, data2)[0], spearmanr(data1, data2)[0]\n",
        "\n",
        "# Example Usage\n",
        "data1 = np.array([1, 2, 3,])\n",
        "data2 = np.array([2, 4, 6])\n",
        "pearson_corr, spearman_corr = calculate_pearson_spearman(data1, data2)\n",
        "\n",
        "print(\"Pearson Correlation:\", pearson_corr)\n",
        "print(\"Spearman Correlation:\", spearman_corr)"
      ],
      "metadata": {
        "colab": {
          "base_uri": "https://localhost:8080/"
        },
        "id": "csqdFKWDRFEH",
        "outputId": "b03fe9f3-0f7d-4766-cc3e-772fc2cbc68e"
      },
      "execution_count": null,
      "outputs": [
        {
          "output_type": "stream",
          "name": "stdout",
          "text": [
            "Pearson Correlation: 0.9999999999999999\n",
            "Spearman Correlation: 1.0\n"
          ]
        }
      ]
    }
  ]
}